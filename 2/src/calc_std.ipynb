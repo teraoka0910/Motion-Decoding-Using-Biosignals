{
 "cells": [
  {
   "cell_type": "code",
   "execution_count": null,
   "metadata": {},
   "outputs": [],
   "source": [
    "import glob\n",
    "import os\n",
    "\n",
    "from pymatreader import read_mat\n",
    "import numpy as np\n",
    "\n",
    "\n",
    "data_dir = '../data/train'"
   ]
  },
  {
   "cell_type": "code",
   "execution_count": 3,
   "metadata": {},
   "outputs": [],
   "source": [
    "fold0_list = []\n",
    "fold1_list = []\n",
    "fold2_list = []\n",
    "\n",
    "for subject in range(5):\n",
    "    label_dict = {}\n",
    "    for i, mat_data in enumerate(glob.glob(f'{data_dir}/subject{subject}/*')):\n",
    "        data = read_mat(mat_data)\n",
    "        data = data['data']\n",
    "        if (subject == 0) or (subject == 3):\n",
    "            if 'train1' in mat_data:\n",
    "                fold0_list.append(data)\n",
    "            elif 'train2' in mat_data:\n",
    "                fold1_list.append(data)\n",
    "            elif 'train3' in mat_data:\n",
    "                fold2_list.append(data)\n",
    "        elif (subject == 1) or (subject == 4):\n",
    "            if 'train2' in mat_data:\n",
    "                fold0_list.append(data)\n",
    "            elif 'train3' in mat_data:\n",
    "                fold1_list.append(data)\n",
    "            elif 'train1' in mat_data:\n",
    "                fold2_list.append(data)\n",
    "        elif subject == 2:\n",
    "            if 'train3' in mat_data:\n",
    "                fold0_list.append(data)\n",
    "            elif 'train1' in mat_data:\n",
    "                fold1_list.append(data)\n",
    "            elif 'train2' in mat_data:\n",
    "                fold2_list.append(data)\n",
    "            \n",
    "for fold in range(3):\n",
    "    dir_name = f'../../data/scaler3/'\n",
    "    os.makedirs(f'{dir_name}', exist_ok=True)\n",
    "    if fold == 0:\n",
    "        data_list = fold1_list + fold2_list\n",
    "    elif fold == 1:\n",
    "        data_list = fold0_list + fold2_list\n",
    "    elif fold == 2:\n",
    "        data_list = fold0_list + fold1_list\n",
    "\n",
    "    iqr_list, median_list = [], []\n",
    "    for data in data_list:\n",
    "        q1 = np.percentile(data, 25, axis=1)\n",
    "        q3 = np.percentile(data, 75, axis=1)\n",
    "        iqr = q3 - q1\n",
    "        median = np.median(data, axis=1)\n",
    "        iqr_list.append(iqr)\n",
    "        median_list.append(median)\n",
    "\n",
    "    iqr = np.mean(np.stack(iqr_list), axis=0)\n",
    "    iqr = np.where(iqr==0, 1, iqr)\n",
    "    median = np.mean(np.stack(median_list), axis=0)\n",
    "\n",
    "    np.save(f'{dir_name}/iqr{fold}', iqr)\n",
    "    np.save(f'{dir_name}/median{fold}', median)"
   ]
  },
  {
   "cell_type": "code",
   "execution_count": null,
   "metadata": {},
   "outputs": [],
   "source": []
  }
 ],
 "metadata": {
  "kernelspec": {
   "display_name": ".venv",
   "language": "python",
   "name": "python3"
  },
  "language_info": {
   "codemirror_mode": {
    "name": "ipython",
    "version": 3
   },
   "file_extension": ".py",
   "mimetype": "text/x-python",
   "name": "python",
   "nbconvert_exporter": "python",
   "pygments_lexer": "ipython3",
   "version": "3.11.9"
  }
 },
 "nbformat": 4,
 "nbformat_minor": 2
}
